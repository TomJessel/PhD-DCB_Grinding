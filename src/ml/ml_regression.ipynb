{
 "cells": [
  {
   "cell_type": "code",
   "execution_count": 1,
   "metadata": {},
   "outputs": [],
   "source": [
    "import pandas as pd\n",
    "import matplotlib.pyplot as plt\n",
    "import numpy as np\n",
    "import tensorflow as tf\n",
    "tf.get_logger().setLevel('ERROR')\n",
    "import tqdm\n",
    "from tqdm.keras import TqdmCallback\n",
    "\n",
    "from src.ml.ml_reg import MLP_Model\n",
    "from src.ml.ml_reg import LSTM_Model\n",
    "import src\n",
    "\n",
    "%load_ext autoreload\n",
    "%autoreload 2"
   ]
  },
  {
   "cell_type": "code",
   "execution_count": 2,
   "metadata": {},
   "outputs": [],
   "source": [
    "plt.rcParams.update({\n",
    "    # \"text.usetex\": True,\n",
    "    # \"font.family\": \"serif\",\n",
    "    # \"font.serif\": [\"Computer Modern Roman\"],\n",
    "    \"font.size\": 12,\n",
    "    \"figure.dpi\": 100,\n",
    "})\n",
    "%matplotlib inline"
   ]
  },
  {
   "cell_type": "code",
   "execution_count": 3,
   "metadata": {},
   "outputs": [],
   "source": [
    "def pred_plot(y: np.ndarray,\n",
    "              y_pred: np.ndarray,\n",
    "              title: str = '',\n",
    "              ):\n",
    "    assert y.shape == y_pred.shape, 'y and y_pred must have the same shape'\n",
    "\n",
    "    if y.ndim == 1:\n",
    "        y = y.reshape(-1, 1)\n",
    "    if y_pred.ndim == 1:\n",
    "        y_pred = y_pred.reshape(-1, 1)\n",
    "\n",
    "    n_outputs = y.shape[1]\n",
    "\n",
    "    fig, ax = plt.subplots(n_outputs, 2, figsize=(12, 6 * n_outputs))\n",
    "    ax = ax.reshape(n_outputs, 2)\n",
    "\n",
    "    for i in range(n_outputs):\n",
    "        ax[i, 0].scatter(y[:, i], y_pred[:, i])\n",
    "        lims = [\n",
    "            np.min([ax[i, 0].get_xlim(), ax[i, 0].get_ylim()]),\n",
    "            np.max([ax[i, 0].get_xlim(), ax[i, 0].get_ylim()]),\n",
    "        ]\n",
    "        ax[i, 0].plot(lims, lims, 'k-', alpha=0.75, zorder=0)\n",
    "        ax[i, 0].grid()\n",
    "        ax[i, 0].set_aspect('equal')\n",
    "        ax[i, 0].set_xlim(lims)\n",
    "        ax[i, 0].set_ylim(lims)\n",
    "        ax[i, 0].set_xlabel('Actual Y')\n",
    "        ax[i, 0].set_ylabel('Predicted Y')\n",
    "        ax[i, 0].set_title(f'{title} - Output {i} Preds')\n",
    "\n",
    "        diff = (y_pred[:, i] - y[:, i]) * 1000\n",
    "\n",
    "        ax[i, 1].hist(diff, bins=30)\n",
    "        ax[i, 1].set_xlabel('Prediction Error / um')\n",
    "        ax[i, 1].set_ylabel('No Occurances')\n",
    "        ax[i, 1].set_title(f'{title} - Output {i} Hist')\n",
    "   \n",
    "    fig.tight_layout()"
   ]
  },
  {
   "cell_type": "code",
   "execution_count": 4,
   "metadata": {},
   "outputs": [],
   "source": [
    "exps = ['Test 11',\n",
    "        'Test 14',\n",
    "        'Test 15',\n",
    "        'Test 16',\n",
    "        'Test 17',\n",
    "        'Test 18',\n",
    "        'Test 19',\n",
    "        ]\n",
    "exps = [src.load(exp) for exp in exps]\n",
    "dfs = [exp.features.iloc[1:] for exp in exps]"
   ]
  },
  {
   "cell_type": "code",
   "execution_count": 5,
   "metadata": {},
   "outputs": [
    {
     "name": "stdout",
     "output_type": "stream",
     "text": [
      "Main df : 960 rows x 8 cols\n"
     ]
    },
    {
     "data": {
      "text/html": [
       "<div>\n",
       "<style scoped>\n",
       "    .dataframe tbody tr th:only-of-type {\n",
       "        vertical-align: middle;\n",
       "    }\n",
       "\n",
       "    .dataframe tbody tr th {\n",
       "        vertical-align: top;\n",
       "    }\n",
       "\n",
       "    .dataframe thead th {\n",
       "        text-align: right;\n",
       "    }\n",
       "</style>\n",
       "<table border=\"1\" class=\"dataframe\">\n",
       "  <thead>\n",
       "    <tr style=\"text-align: right;\">\n",
       "      <th></th>\n",
       "      <th>RMS</th>\n",
       "      <th>Kurtosis</th>\n",
       "      <th>Amplitude</th>\n",
       "      <th>Skewness</th>\n",
       "      <th>Freq 10 kHz</th>\n",
       "      <th>Freq 35 kHz</th>\n",
       "      <th>Freq 134 kHz</th>\n",
       "      <th>Mean radius</th>\n",
       "    </tr>\n",
       "  </thead>\n",
       "  <tbody>\n",
       "    <tr>\n",
       "      <th>0</th>\n",
       "      <td>0.039208</td>\n",
       "      <td>15.358375</td>\n",
       "      <td>1.581795</td>\n",
       "      <td>0.019882</td>\n",
       "      <td>29.507773</td>\n",
       "      <td>36.712393</td>\n",
       "      <td>16.873432</td>\n",
       "      <td>0.672499</td>\n",
       "    </tr>\n",
       "    <tr>\n",
       "      <th>1</th>\n",
       "      <td>0.289873</td>\n",
       "      <td>11.720536</td>\n",
       "      <td>8.527955</td>\n",
       "      <td>0.061386</td>\n",
       "      <td>31.941039</td>\n",
       "      <td>52.078281</td>\n",
       "      <td>39.609882</td>\n",
       "      <td>0.671830</td>\n",
       "    </tr>\n",
       "    <tr>\n",
       "      <th>2</th>\n",
       "      <td>0.720448</td>\n",
       "      <td>6.666400</td>\n",
       "      <td>7.369736</td>\n",
       "      <td>-0.095615</td>\n",
       "      <td>36.136609</td>\n",
       "      <td>61.848164</td>\n",
       "      <td>47.254065</td>\n",
       "      <td>0.669854</td>\n",
       "    </tr>\n",
       "    <tr>\n",
       "      <th>3</th>\n",
       "      <td>0.949587</td>\n",
       "      <td>5.552429</td>\n",
       "      <td>9.247926</td>\n",
       "      <td>-0.085875</td>\n",
       "      <td>35.081427</td>\n",
       "      <td>66.172557</td>\n",
       "      <td>48.616375</td>\n",
       "      <td>0.668865</td>\n",
       "    </tr>\n",
       "    <tr>\n",
       "      <th>4</th>\n",
       "      <td>0.974782</td>\n",
       "      <td>5.480675</td>\n",
       "      <td>8.517215</td>\n",
       "      <td>-0.073499</td>\n",
       "      <td>34.281257</td>\n",
       "      <td>66.067365</td>\n",
       "      <td>48.321941</td>\n",
       "      <td>0.668145</td>\n",
       "    </tr>\n",
       "  </tbody>\n",
       "</table>\n",
       "</div>"
      ],
      "text/plain": [
       "        RMS   Kurtosis  Amplitude  Skewness  Freq 10 kHz  Freq 35 kHz  \\\n",
       "0  0.039208  15.358375   1.581795  0.019882    29.507773    36.712393   \n",
       "1  0.289873  11.720536   8.527955  0.061386    31.941039    52.078281   \n",
       "2  0.720448   6.666400   7.369736 -0.095615    36.136609    61.848164   \n",
       "3  0.949587   5.552429   9.247926 -0.085875    35.081427    66.172557   \n",
       "4  0.974782   5.480675   8.517215 -0.073499    34.281257    66.067365   \n",
       "\n",
       "   Freq 134 kHz  Mean radius  \n",
       "0     16.873432     0.672499  \n",
       "1     39.609882     0.671830  \n",
       "2     47.254065     0.669854  \n",
       "3     48.616375     0.668865  \n",
       "4     48.321941     0.668145  "
      ]
     },
     "execution_count": 5,
     "metadata": {},
     "output_type": "execute_result"
    }
   ],
   "source": [
    "main_df = pd.concat(dfs)\n",
    "main_df = main_df.drop(columns=['Runout',\n",
    "                                'Form error',\n",
    "                                'Peak radius',\n",
    "                                'Radius diff',\n",
    "                                # 'Mean radius',\n",
    "                                'Avg probe',\n",
    "                                'Probe diff',\n",
    "                                ])#.drop([0, 1, 2, 3])\n",
    "main_df.reset_index(drop=True, inplace=True)\n",
    "print(f'Main df : {main_df.shape[0]} rows x {main_df.shape[1]} cols')\n",
    "main_df.head()"
   ]
  },
  {
   "cell_type": "code",
   "execution_count": 7,
   "metadata": {},
   "outputs": [
    {
     "name": "stdout",
     "output_type": "stream",
     "text": [
      "Input df : 960 rows x 7 cols\n"
     ]
    },
    {
     "data": {
      "text/html": [
       "<div>\n",
       "<style scoped>\n",
       "    .dataframe tbody tr th:only-of-type {\n",
       "        vertical-align: middle;\n",
       "    }\n",
       "\n",
       "    .dataframe tbody tr th {\n",
       "        vertical-align: top;\n",
       "    }\n",
       "\n",
       "    .dataframe thead th {\n",
       "        text-align: right;\n",
       "    }\n",
       "</style>\n",
       "<table border=\"1\" class=\"dataframe\">\n",
       "  <thead>\n",
       "    <tr style=\"text-align: right;\">\n",
       "      <th></th>\n",
       "      <th>RMS</th>\n",
       "      <th>Kurtosis</th>\n",
       "      <th>Amplitude</th>\n",
       "      <th>Skewness</th>\n",
       "      <th>Freq 10 kHz</th>\n",
       "      <th>Freq 35 kHz</th>\n",
       "      <th>Freq 134 kHz</th>\n",
       "    </tr>\n",
       "  </thead>\n",
       "  <tbody>\n",
       "    <tr>\n",
       "      <th>0</th>\n",
       "      <td>0.039208</td>\n",
       "      <td>15.358375</td>\n",
       "      <td>1.581795</td>\n",
       "      <td>0.019882</td>\n",
       "      <td>29.507773</td>\n",
       "      <td>36.712393</td>\n",
       "      <td>16.873432</td>\n",
       "    </tr>\n",
       "    <tr>\n",
       "      <th>1</th>\n",
       "      <td>0.289873</td>\n",
       "      <td>11.720536</td>\n",
       "      <td>8.527955</td>\n",
       "      <td>0.061386</td>\n",
       "      <td>31.941039</td>\n",
       "      <td>52.078281</td>\n",
       "      <td>39.609882</td>\n",
       "    </tr>\n",
       "    <tr>\n",
       "      <th>2</th>\n",
       "      <td>0.720448</td>\n",
       "      <td>6.666400</td>\n",
       "      <td>7.369736</td>\n",
       "      <td>-0.095615</td>\n",
       "      <td>36.136609</td>\n",
       "      <td>61.848164</td>\n",
       "      <td>47.254065</td>\n",
       "    </tr>\n",
       "    <tr>\n",
       "      <th>3</th>\n",
       "      <td>0.949587</td>\n",
       "      <td>5.552429</td>\n",
       "      <td>9.247926</td>\n",
       "      <td>-0.085875</td>\n",
       "      <td>35.081427</td>\n",
       "      <td>66.172557</td>\n",
       "      <td>48.616375</td>\n",
       "    </tr>\n",
       "    <tr>\n",
       "      <th>4</th>\n",
       "      <td>0.974782</td>\n",
       "      <td>5.480675</td>\n",
       "      <td>8.517215</td>\n",
       "      <td>-0.073499</td>\n",
       "      <td>34.281257</td>\n",
       "      <td>66.067365</td>\n",
       "      <td>48.321941</td>\n",
       "    </tr>\n",
       "  </tbody>\n",
       "</table>\n",
       "</div>"
      ],
      "text/plain": [
       "        RMS   Kurtosis  Amplitude  Skewness  Freq 10 kHz  Freq 35 kHz  \\\n",
       "0  0.039208  15.358375   1.581795  0.019882    29.507773    36.712393   \n",
       "1  0.289873  11.720536   8.527955  0.061386    31.941039    52.078281   \n",
       "2  0.720448   6.666400   7.369736 -0.095615    36.136609    61.848164   \n",
       "3  0.949587   5.552429   9.247926 -0.085875    35.081427    66.172557   \n",
       "4  0.974782   5.480675   8.517215 -0.073499    34.281257    66.067365   \n",
       "\n",
       "   Freq 134 kHz  \n",
       "0     16.873432  \n",
       "1     39.609882  \n",
       "2     47.254065  \n",
       "3     48.616375  \n",
       "4     48.321941  "
      ]
     },
     "execution_count": 7,
     "metadata": {},
     "output_type": "execute_result"
    }
   ],
   "source": [
    "input_df = main_df.iloc[:, :-1]\n",
    "print(f'Input df : {input_df.shape[0]} rows x {input_df.shape[1]} cols')\n",
    "input_df.head()"
   ]
  },
  {
   "cell_type": "code",
   "execution_count": 8,
   "metadata": {},
   "outputs": [
    {
     "name": "stdout",
     "output_type": "stream",
     "text": [
      "Target df : 960 rows x 1 cols\n"
     ]
    },
    {
     "data": {
      "text/html": [
       "<div>\n",
       "<style scoped>\n",
       "    .dataframe tbody tr th:only-of-type {\n",
       "        vertical-align: middle;\n",
       "    }\n",
       "\n",
       "    .dataframe tbody tr th {\n",
       "        vertical-align: top;\n",
       "    }\n",
       "\n",
       "    .dataframe thead th {\n",
       "        text-align: right;\n",
       "    }\n",
       "</style>\n",
       "<table border=\"1\" class=\"dataframe\">\n",
       "  <thead>\n",
       "    <tr style=\"text-align: right;\">\n",
       "      <th></th>\n",
       "      <th>Mean radius</th>\n",
       "    </tr>\n",
       "  </thead>\n",
       "  <tbody>\n",
       "    <tr>\n",
       "      <th>0</th>\n",
       "      <td>0.672499</td>\n",
       "    </tr>\n",
       "    <tr>\n",
       "      <th>1</th>\n",
       "      <td>0.671830</td>\n",
       "    </tr>\n",
       "    <tr>\n",
       "      <th>2</th>\n",
       "      <td>0.669854</td>\n",
       "    </tr>\n",
       "    <tr>\n",
       "      <th>3</th>\n",
       "      <td>0.668865</td>\n",
       "    </tr>\n",
       "    <tr>\n",
       "      <th>4</th>\n",
       "      <td>0.668145</td>\n",
       "    </tr>\n",
       "  </tbody>\n",
       "</table>\n",
       "</div>"
      ],
      "text/plain": [
       "   Mean radius\n",
       "0     0.672499\n",
       "1     0.671830\n",
       "2     0.669854\n",
       "3     0.668865\n",
       "4     0.668145"
      ]
     },
     "execution_count": 8,
     "metadata": {},
     "output_type": "execute_result"
    }
   ],
   "source": [
    "target_df = main_df.iloc[:, -1:]\n",
    "print(f'Target df : {target_df.shape[0]} rows x {target_df.shape[1]} cols')\n",
    "target_df.head()"
   ]
  },
  {
   "cell_type": "markdown",
   "metadata": {},
   "source": [
    "### MLP"
   ]
  },
  {
   "cell_type": "code",
   "execution_count": null,
   "metadata": {},
   "outputs": [],
   "source": [
    "mlp = MLP_Model(modelParams={'nLayers': 3,\n",
    "                             'nUnits': [128, 128, 128],\n",
    "                             'activation': 'relu',\n",
    "                             'dropout': 0.1,\n",
    "                             },\n",
    "                compileParams={'optimizer': 'adam',\n",
    "                               'loss': 'mse',\n",
    "                               'metrics': ['root_mean_squared_error',\n",
    "                                           'mean_absolute_error',\n",
    "                                           'r2_score'\n",
    "                                           ],\n",
    "                               },\n",
    "                inputData=input_df.values,\n",
    "                targetData=target_df.values,\n",
    "                testFrac=0.2,\n",
    "                shuffle=True,\n",
    "                randomState=42,\n",
    "                tb=True,\n",
    "                tbLogDir='NewCodeTest',\n",
    "                )"
   ]
  },
  {
   "cell_type": "code",
   "execution_count": null,
   "metadata": {},
   "outputs": [],
   "source": [
    "mlp.summary()"
   ]
  },
  {
   "cell_type": "code",
   "execution_count": null,
   "metadata": {},
   "outputs": [],
   "source": [
    "mlp.fit(x=mlp.trainData[0],\n",
    "        y=mlp.trainData[1],\n",
    "        epochs=2000,\n",
    "        batch_size=32,\n",
    "        validation_split=0.1,\n",
    "        verbose=0,\n",
    "        )"
   ]
  },
  {
   "cell_type": "code",
   "execution_count": null,
   "metadata": {},
   "outputs": [],
   "source": [
    "fig, ax = mlp.plot_loss()"
   ]
  },
  {
   "cell_type": "code",
   "execution_count": null,
   "metadata": {},
   "outputs": [],
   "source": [
    "y_pred = mlp.predict(x=mlp.testData[0])"
   ]
  },
  {
   "cell_type": "code",
   "execution_count": null,
   "metadata": {},
   "outputs": [],
   "source": [
    "pred_plot(mlp.testData[1], y_pred, 'MLP')"
   ]
  },
  {
   "cell_type": "code",
   "execution_count": null,
   "metadata": {},
   "outputs": [],
   "source": [
    "sc = mlp.score(printout=True)"
   ]
  },
  {
   "cell_type": "markdown",
   "metadata": {},
   "source": [
    "### LSTM"
   ]
  },
  {
   "cell_type": "code",
   "execution_count": 60,
   "metadata": {},
   "outputs": [],
   "source": [
    "lstm = LSTM_Model(modelParams={'seqLen': 15,\n",
    "                               'nLSTMLayers': 2,\n",
    "                               'nLSTMUnits':[32, 32],\n",
    "                               'nDenseLayers': 1,\n",
    "                               'nDenseUnits': [16],\n",
    "                               'activation': 'relu',\n",
    "                               'dropout': 0.1,\n",
    "                               },\n",
    "                  compileParams={'optimizer': 'adam',\n",
    "                                 'loss': 'mse',\n",
    "                                 'metrics': ['root_mean_squared_error',\n",
    "                                             'mean_absolute_error',\n",
    "                                             'r2_score'\n",
    "                                             ],\n",
    "                                 },\n",
    "                  inputData=input_df.values,\n",
    "                  targetData=target_df.values,\n",
    "                  endPointsData=[len(df) for df in dfs],\n",
    "                  testFrac=0.2,\n",
    "                  shuffle=True,\n",
    "                  randomState=42,\n",
    "                  tb=True,\n",
    "                  tbLogDir='NewCodeTest',\n",
    "                  )"
   ]
  },
  {
   "cell_type": "code",
   "execution_count": 61,
   "metadata": {},
   "outputs": [
    {
     "data": {
      "text/html": [
       "<pre style=\"white-space:pre;overflow-x:auto;line-height:normal;font-family:Menlo,'DejaVu Sans Mono',consolas,'Courier New',monospace\"><span style=\"font-weight: bold\">Model: \"functional_4\"</span>\n",
       "</pre>\n"
      ],
      "text/plain": [
       "\u001b[1mModel: \"functional_4\"\u001b[0m\n"
      ]
     },
     "metadata": {},
     "output_type": "display_data"
    },
    {
     "data": {
      "text/html": [
       "<pre style=\"white-space:pre;overflow-x:auto;line-height:normal;font-family:Menlo,'DejaVu Sans Mono',consolas,'Courier New',monospace\">┏━━━━━━━━━━━━━━━━━━━━━━━━━━━━━━━━━┳━━━━━━━━━━━━━━━━━━━━━━━━┳━━━━━━━━━━━━━━━┓\n",
       "┃<span style=\"font-weight: bold\"> Layer (type)                    </span>┃<span style=\"font-weight: bold\"> Output Shape           </span>┃<span style=\"font-weight: bold\">       Param # </span>┃\n",
       "┡━━━━━━━━━━━━━━━━━━━━━━━━━━━━━━━━━╇━━━━━━━━━━━━━━━━━━━━━━━━╇━━━━━━━━━━━━━━━┩\n",
       "│ input_layer_4 (<span style=\"color: #0087ff; text-decoration-color: #0087ff\">InputLayer</span>)      │ (<span style=\"color: #00d7ff; text-decoration-color: #00d7ff\">None</span>, <span style=\"color: #00af00; text-decoration-color: #00af00\">15</span>, <span style=\"color: #00af00; text-decoration-color: #00af00\">7</span>)          │             <span style=\"color: #00af00; text-decoration-color: #00af00\">0</span> │\n",
       "├─────────────────────────────────┼────────────────────────┼───────────────┤\n",
       "│ lstm_8 (<span style=\"color: #0087ff; text-decoration-color: #0087ff\">LSTM</span>)                   │ (<span style=\"color: #00d7ff; text-decoration-color: #00d7ff\">None</span>, <span style=\"color: #00af00; text-decoration-color: #00af00\">15</span>, <span style=\"color: #00af00; text-decoration-color: #00af00\">32</span>)         │         <span style=\"color: #00af00; text-decoration-color: #00af00\">5,120</span> │\n",
       "├─────────────────────────────────┼────────────────────────┼───────────────┤\n",
       "│ dropout_12 (<span style=\"color: #0087ff; text-decoration-color: #0087ff\">Dropout</span>)            │ (<span style=\"color: #00d7ff; text-decoration-color: #00d7ff\">None</span>, <span style=\"color: #00af00; text-decoration-color: #00af00\">15</span>, <span style=\"color: #00af00; text-decoration-color: #00af00\">32</span>)         │             <span style=\"color: #00af00; text-decoration-color: #00af00\">0</span> │\n",
       "├─────────────────────────────────┼────────────────────────┼───────────────┤\n",
       "│ lstm_9 (<span style=\"color: #0087ff; text-decoration-color: #0087ff\">LSTM</span>)                   │ (<span style=\"color: #00d7ff; text-decoration-color: #00d7ff\">None</span>, <span style=\"color: #00af00; text-decoration-color: #00af00\">32</span>)             │         <span style=\"color: #00af00; text-decoration-color: #00af00\">8,320</span> │\n",
       "├─────────────────────────────────┼────────────────────────┼───────────────┤\n",
       "│ dropout_13 (<span style=\"color: #0087ff; text-decoration-color: #0087ff\">Dropout</span>)            │ (<span style=\"color: #00d7ff; text-decoration-color: #00d7ff\">None</span>, <span style=\"color: #00af00; text-decoration-color: #00af00\">32</span>)             │             <span style=\"color: #00af00; text-decoration-color: #00af00\">0</span> │\n",
       "├─────────────────────────────────┼────────────────────────┼───────────────┤\n",
       "│ dense_8 (<span style=\"color: #0087ff; text-decoration-color: #0087ff\">Dense</span>)                 │ (<span style=\"color: #00d7ff; text-decoration-color: #00d7ff\">None</span>, <span style=\"color: #00af00; text-decoration-color: #00af00\">16</span>)             │           <span style=\"color: #00af00; text-decoration-color: #00af00\">528</span> │\n",
       "├─────────────────────────────────┼────────────────────────┼───────────────┤\n",
       "│ dropout_14 (<span style=\"color: #0087ff; text-decoration-color: #0087ff\">Dropout</span>)            │ (<span style=\"color: #00d7ff; text-decoration-color: #00d7ff\">None</span>, <span style=\"color: #00af00; text-decoration-color: #00af00\">16</span>)             │             <span style=\"color: #00af00; text-decoration-color: #00af00\">0</span> │\n",
       "├─────────────────────────────────┼────────────────────────┼───────────────┤\n",
       "│ dense_9 (<span style=\"color: #0087ff; text-decoration-color: #0087ff\">Dense</span>)                 │ (<span style=\"color: #00d7ff; text-decoration-color: #00d7ff\">None</span>, <span style=\"color: #00af00; text-decoration-color: #00af00\">1</span>)              │            <span style=\"color: #00af00; text-decoration-color: #00af00\">17</span> │\n",
       "└─────────────────────────────────┴────────────────────────┴───────────────┘\n",
       "</pre>\n"
      ],
      "text/plain": [
       "┏━━━━━━━━━━━━━━━━━━━━━━━━━━━━━━━━━┳━━━━━━━━━━━━━━━━━━━━━━━━┳━━━━━━━━━━━━━━━┓\n",
       "┃\u001b[1m \u001b[0m\u001b[1mLayer (type)                   \u001b[0m\u001b[1m \u001b[0m┃\u001b[1m \u001b[0m\u001b[1mOutput Shape          \u001b[0m\u001b[1m \u001b[0m┃\u001b[1m \u001b[0m\u001b[1m      Param #\u001b[0m\u001b[1m \u001b[0m┃\n",
       "┡━━━━━━━━━━━━━━━━━━━━━━━━━━━━━━━━━╇━━━━━━━━━━━━━━━━━━━━━━━━╇━━━━━━━━━━━━━━━┩\n",
       "│ input_layer_4 (\u001b[38;5;33mInputLayer\u001b[0m)      │ (\u001b[38;5;45mNone\u001b[0m, \u001b[38;5;34m15\u001b[0m, \u001b[38;5;34m7\u001b[0m)          │             \u001b[38;5;34m0\u001b[0m │\n",
       "├─────────────────────────────────┼────────────────────────┼───────────────┤\n",
       "│ lstm_8 (\u001b[38;5;33mLSTM\u001b[0m)                   │ (\u001b[38;5;45mNone\u001b[0m, \u001b[38;5;34m15\u001b[0m, \u001b[38;5;34m32\u001b[0m)         │         \u001b[38;5;34m5,120\u001b[0m │\n",
       "├─────────────────────────────────┼────────────────────────┼───────────────┤\n",
       "│ dropout_12 (\u001b[38;5;33mDropout\u001b[0m)            │ (\u001b[38;5;45mNone\u001b[0m, \u001b[38;5;34m15\u001b[0m, \u001b[38;5;34m32\u001b[0m)         │             \u001b[38;5;34m0\u001b[0m │\n",
       "├─────────────────────────────────┼────────────────────────┼───────────────┤\n",
       "│ lstm_9 (\u001b[38;5;33mLSTM\u001b[0m)                   │ (\u001b[38;5;45mNone\u001b[0m, \u001b[38;5;34m32\u001b[0m)             │         \u001b[38;5;34m8,320\u001b[0m │\n",
       "├─────────────────────────────────┼────────────────────────┼───────────────┤\n",
       "│ dropout_13 (\u001b[38;5;33mDropout\u001b[0m)            │ (\u001b[38;5;45mNone\u001b[0m, \u001b[38;5;34m32\u001b[0m)             │             \u001b[38;5;34m0\u001b[0m │\n",
       "├─────────────────────────────────┼────────────────────────┼───────────────┤\n",
       "│ dense_8 (\u001b[38;5;33mDense\u001b[0m)                 │ (\u001b[38;5;45mNone\u001b[0m, \u001b[38;5;34m16\u001b[0m)             │           \u001b[38;5;34m528\u001b[0m │\n",
       "├─────────────────────────────────┼────────────────────────┼───────────────┤\n",
       "│ dropout_14 (\u001b[38;5;33mDropout\u001b[0m)            │ (\u001b[38;5;45mNone\u001b[0m, \u001b[38;5;34m16\u001b[0m)             │             \u001b[38;5;34m0\u001b[0m │\n",
       "├─────────────────────────────────┼────────────────────────┼───────────────┤\n",
       "│ dense_9 (\u001b[38;5;33mDense\u001b[0m)                 │ (\u001b[38;5;45mNone\u001b[0m, \u001b[38;5;34m1\u001b[0m)              │            \u001b[38;5;34m17\u001b[0m │\n",
       "└─────────────────────────────────┴────────────────────────┴───────────────┘\n"
      ]
     },
     "metadata": {},
     "output_type": "display_data"
    },
    {
     "data": {
      "text/html": [
       "<pre style=\"white-space:pre;overflow-x:auto;line-height:normal;font-family:Menlo,'DejaVu Sans Mono',consolas,'Courier New',monospace\"><span style=\"font-weight: bold\"> Total params: </span><span style=\"color: #00af00; text-decoration-color: #00af00\">13,985</span> (54.63 KB)\n",
       "</pre>\n"
      ],
      "text/plain": [
       "\u001b[1m Total params: \u001b[0m\u001b[38;5;34m13,985\u001b[0m (54.63 KB)\n"
      ]
     },
     "metadata": {},
     "output_type": "display_data"
    },
    {
     "data": {
      "text/html": [
       "<pre style=\"white-space:pre;overflow-x:auto;line-height:normal;font-family:Menlo,'DejaVu Sans Mono',consolas,'Courier New',monospace\"><span style=\"font-weight: bold\"> Trainable params: </span><span style=\"color: #00af00; text-decoration-color: #00af00\">13,985</span> (54.63 KB)\n",
       "</pre>\n"
      ],
      "text/plain": [
       "\u001b[1m Trainable params: \u001b[0m\u001b[38;5;34m13,985\u001b[0m (54.63 KB)\n"
      ]
     },
     "metadata": {},
     "output_type": "display_data"
    },
    {
     "data": {
      "text/html": [
       "<pre style=\"white-space:pre;overflow-x:auto;line-height:normal;font-family:Menlo,'DejaVu Sans Mono',consolas,'Courier New',monospace\"><span style=\"font-weight: bold\"> Non-trainable params: </span><span style=\"color: #00af00; text-decoration-color: #00af00\">0</span> (0.00 B)\n",
       "</pre>\n"
      ],
      "text/plain": [
       "\u001b[1m Non-trainable params: \u001b[0m\u001b[38;5;34m0\u001b[0m (0.00 B)\n"
      ]
     },
     "metadata": {},
     "output_type": "display_data"
    }
   ],
   "source": [
    "lstm.summary()"
   ]
  },
  {
   "cell_type": "code",
   "execution_count": 62,
   "metadata": {},
   "outputs": [
    {
     "name": "stdout",
     "output_type": "stream",
     "text": [
      "Training model: LSTM-[32 32 16]-D0.1-20240816-095709\n"
     ]
    },
    {
     "name": "stderr",
     "output_type": "stream",
     "text": [
      "100%|██████████| 100/100 [00:31<00:00,  3.18epoch/s, loss=4.4e-5, mean_absolute_error=0.00514, r2_score=0.469, root_mean_squared_error=0.00663, val_loss=3.64e-5, val_mean_absolute_error=0.00435, val_r2_score=0.487, val_root_mean_squared_error=0.00603]    \n"
     ]
    }
   ],
   "source": [
    "lstm.fit(x=lstm.trainData[0],\n",
    "         y=lstm.trainData[1],\n",
    "         epochs=100,\n",
    "         batch_size=32,\n",
    "         validation_split=0.1,\n",
    "         verbose=0,\n",
    "         )"
   ]
  },
  {
   "cell_type": "code",
   "execution_count": 63,
   "metadata": {},
   "outputs": [
    {
     "data": {
      "image/png": "[encoded data removed]",
      "text/plain": [
       "<Figure size 640x480 with 1 Axes>"
      ]
     },
     "metadata": {},
     "output_type": "display_data"
    }
   ],
   "source": [
    "fig, ax = lstm.plot_loss()\n",
    "ax.set_yscale('log')"
   ]
  },
  {
   "cell_type": "code",
   "execution_count": 64,
   "metadata": {},
   "outputs": [
    {
     "name": "stdout",
     "output_type": "stream",
     "text": [
      "\u001b[1m6/6\u001b[0m \u001b[32m━━━━━━━━━━━━━━━━━━━━\u001b[0m\u001b[37m\u001b[0m \u001b[1m0s\u001b[0m 45ms/step\n"
     ]
    }
   ],
   "source": [
    "y_pred = lstm.predict(x=lstm.testData[0])"
   ]
  },
  {
   "cell_type": "code",
   "execution_count": 65,
   "metadata": {},
   "outputs": [
    {
     "data": {
      "image/png": "[encoded data removed]",
      "text/plain": [
       "<Figure size 1200x600 with 2 Axes>"
      ]
     },
     "metadata": {},
     "output_type": "display_data"
    }
   ],
   "source": [
    "pred_plot(lstm.testData[1], y_pred, 'MLP')"
   ]
  },
  {
   "cell_type": "code",
   "execution_count": 66,
   "metadata": {},
   "outputs": [
    {
     "name": "stdout",
     "output_type": "stream",
     "text": [
      "\u001b[1m6/6\u001b[0m \u001b[32m━━━━━━━━━━━━━━━━━━━━\u001b[0m\u001b[37m\u001b[0m \u001b[1m0s\u001b[0m 3ms/step \n",
      "Test Data:\n",
      "\tmean_squared_error: 0.0001\n",
      "\troot_mean_squared_error: 0.0081\n",
      "\tmean_absolute_error: 0.0051\n",
      "\tr2_score: 0.2796\n"
     ]
    }
   ],
   "source": [
    "sc = lstm.score(printout=True)"
   ]
  }
 ],
 "metadata": {
  "kernelspec": {
   "display_name": "tf",
   "language": "python",
   "name": "python3"
  },
  "language_info": {
   "codemirror_mode": {
    "name": "ipython",
    "version": 3
   },
   "file_extension": ".py",
   "mimetype": "text/x-python",
   "name": "python",
   "nbconvert_exporter": "python",
   "pygments_lexer": "ipython3",
   "version": "3.10.8"
  }
 },
 "nbformat": 4,
 "nbformat_minor": 2
}
